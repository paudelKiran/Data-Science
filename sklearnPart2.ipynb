{
  "nbformat": 4,
  "nbformat_minor": 0,
  "metadata": {
    "colab": {
      "provenance": [],
      "authorship_tag": "ABX9TyNjqHqhoPzHLeipZLKykFCh"
    },
    "kernelspec": {
      "name": "python3",
      "display_name": "Python 3"
    },
    "language_info": {
      "name": "python"
    }
  },
  "cells": [
    {
      "cell_type": "markdown",
      "source": [
        "# Getting our data ready to be used in feeding\n",
        "\n",
        "1.Split data into features and labels  \n",
        "2.Filling or disregarding missing values   \n",
        "3.Converting non numerical to numerical values"
      ],
      "metadata": {
        "id": "_t0RLvNewPym"
      }
    },
    {
      "cell_type": "code",
      "source": [
        "import numpy as np\n",
        "import pandas as pd\n",
        "import matplotlib.pyplot as plt\n"
      ],
      "metadata": {
        "id": "TmgPNPAHxEGc"
      },
      "execution_count": 1,
      "outputs": []
    },
    {
      "cell_type": "code",
      "source": [
        "heart_disease=pd.read_csv(\"heart-disease.csv\")"
      ],
      "metadata": {
        "id": "4jV9ejwsxo4T"
      },
      "execution_count": 3,
      "outputs": []
    },
    {
      "cell_type": "code",
      "source": [],
      "metadata": {
        "id": "QATXlVeWxyoe"
      },
      "execution_count": null,
      "outputs": []
    }
  ]
}
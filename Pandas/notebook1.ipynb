{
 "cells": [
  {
   "cell_type": "markdown",
   "id": "cc7fb8c7-0dd9-4060-a1a7-1950823593f7",
   "metadata": {},
   "source": [
    "## Analysis of diabetes patient\n",
    "We are going to deal with some data, try to analyse it"
   ]
  },
  {
   "cell_type": "code",
   "execution_count": 3,
   "id": "e41f4c44-97fd-4423-b611-1200f7b07339",
   "metadata": {},
   "outputs": [],
   "source": [
    "import pandas as pd\n",
    "import matplotlib.pyplot as plt "
   ]
  },
  {
   "cell_type": "code",
   "execution_count": 11,
   "id": "40da8bf0-270e-469b-9009-6d4de04cb6ab",
   "metadata": {},
   "outputs": [],
   "source": [
    "df=pd.read_csv(\"heart-disease.csv\")"
   ]
  },
  {
   "cell_type": "markdown",
   "id": "39aa4c81-2716-4061-8b0a-7787d87c9728",
   "metadata": {},
   "source": [
    "![](ml-framework.png)"
   ]
  },
  {
   "cell_type": "code",
   "execution_count": null,
   "id": "a59aac4c-ef47-4edd-951a-f840a8f2a9ad",
   "metadata": {},
   "outputs": [],
   "source": []
  }
 ],
 "metadata": {
  "kernelspec": {
   "display_name": "Python 3 (ipykernel)",
   "language": "python",
   "name": "python3"
  },
  "language_info": {
   "codemirror_mode": {
    "name": "ipython",
    "version": 3
   },
   "file_extension": ".py",
   "mimetype": "text/x-python",
   "name": "python",
   "nbconvert_exporter": "python",
   "pygments_lexer": "ipython3",
   "version": "3.13.0"
  }
 },
 "nbformat": 4,
 "nbformat_minor": 5
}

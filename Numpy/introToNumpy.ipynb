{
 "cells": [
  {
   "cell_type": "markdown",
   "id": "5e1ccb4c-2796-4e34-8844-1fa6b4669487",
   "metadata": {},
   "source": [
    "# Numpy"
   ]
  },
  {
   "cell_type": "markdown",
   "id": "a7a22155-d9c6-4588-bd3c-0b430a5f9edb",
   "metadata": {},
   "source": [
    "### Introduction\n",
    "Basics in numpy\n"
   ]
  },
  {
   "cell_type": "code",
   "execution_count": null,
   "id": "65c672a9-56e2-42c6-9792-22498bf30716",
   "metadata": {},
   "outputs": [],
   "source": []
  }
 ],
 "metadata": {
  "kernelspec": {
   "display_name": "Python 3 (ipykernel)",
   "language": "python",
   "name": "python3"
  },
  "language_info": {
   "codemirror_mode": {
    "name": "ipython",
    "version": 3
   },
   "file_extension": ".py",
   "mimetype": "text/x-python",
   "name": "python",
   "nbconvert_exporter": "python",
   "pygments_lexer": "ipython3",
   "version": "3.13.0"
  }
 },
 "nbformat": 4,
 "nbformat_minor": 5
}
